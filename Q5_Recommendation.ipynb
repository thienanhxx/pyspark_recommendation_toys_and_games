{
 "cells": [
  {
   "cell_type": "code",
   "execution_count": 1,
   "id": "82832f44-c5bf-490f-aa60-0a2265993081",
   "metadata": {},
   "outputs": [],
   "source": [
    "import findspark\n",
    "findspark.init()"
   ]
  },
  {
   "cell_type": "code",
   "execution_count": 2,
   "id": "bfece90d-044b-4c03-b84e-a771a0642243",
   "metadata": {},
   "outputs": [],
   "source": [
    "from pyspark.sql import SparkSession\n",
    "from pyspark import SparkContext\n",
    "from pyspark.sql import SQLContext"
   ]
  },
  {
   "cell_type": "code",
   "execution_count": 3,
   "id": "1fb85e37-8988-4a79-8ba4-330f18a0e941",
   "metadata": {},
   "outputs": [],
   "source": [
    "sc = SparkContext()"
   ]
  },
  {
   "cell_type": "code",
   "execution_count": 4,
   "id": "f7226356-4d30-4c36-bf18-9facb922c167",
   "metadata": {},
   "outputs": [],
   "source": [
    "spark = SparkSession(sc)"
   ]
  },
  {
   "cell_type": "markdown",
   "id": "9438445e-71f0-4711-b7bc-e8f587b14bbc",
   "metadata": {},
   "source": [
    "### Read the dataset"
   ]
  },
  {
   "cell_type": "code",
   "execution_count": 5,
   "id": "41445d75-ae8f-4db4-abb2-7da9571c2edb",
   "metadata": {},
   "outputs": [],
   "source": [
    "data = spark.read.json('Du_lieu_cung_cap/reviews_Toys_and_Games_5.json.gz')"
   ]
  },
  {
   "cell_type": "code",
   "execution_count": 6,
   "id": "dd6dbdf7-222f-4bcc-b3d0-bb4952a718ec",
   "metadata": {},
   "outputs": [
    {
     "name": "stdout",
     "output_type": "stream",
     "text": [
      "+----------+--------+-------+--------------------+-----------+--------------+--------------+--------------------+--------------+\n",
      "|      asin| helpful|overall|          reviewText| reviewTime|    reviewerID|  reviewerName|             summary|unixReviewTime|\n",
      "+----------+--------+-------+--------------------+-----------+--------------+--------------+--------------------+--------------+\n",
      "|0439893577|  [0, 0]|    5.0|I like the item p...|01 29, 2014|A1VXOAVRGKGEAK|         Angie|      Magnetic board|    1390953600|\n",
      "|0439893577|  [1, 1]|    4.0|Love the magnet e...|03 28, 2014| A8R62G708TSCM|       Candace|it works pretty g...|    1395964800|\n",
      "|0439893577|  [1, 1]|    5.0|Both sides are ma...|01 28, 2013|A21KH420DK0ICA|capemaychristy|          love this!|    1359331200|\n",
      "|0439893577|  [0, 0]|    5.0|Bought one a few ...| 02 8, 2014| AR29QK6HPFYZ4|          dcrm|   Daughters love it|    1391817600|\n",
      "|0439893577|  [1, 1]|    4.0|I have a stainles...| 05 5, 2014| ACCH8EOML6FN5|          DoyZ|Great to have so ...|    1399248000|\n",
      "|0439893577|  [0, 0]|    3.0|this is a nice ma...|05 16, 2013|A1EDPGHC9EYBUN|            kp|             grandma|    1368662400|\n",
      "|0439893577|  [0, 0]|    3.0|This is just as I...|12 26, 2012|A181ZNB42LISRZ|         laura|  Serves the purpose|    1356480000|\n",
      "|0439893577|  [1, 1]|    5.0|My granddaughter ...|04 15, 2014|A1RBEJ5UQ1RWAW|         Linda|               Great|    1397520000|\n",
      "|0439893577|  [0, 0]|    4.0|This is good prod...|03 28, 2013| AFGGC7SIV964O|    Maan's Mom|A must have for a...|    1364428800|\n",
      "|0439893577|[59, 59]|    3.0|I keep this board...|11 19, 2009|A2XU46XXNV19C8|      Margaret|  Nifty little thing|    1258588800|\n",
      "+----------+--------+-------+--------------------+-----------+--------------+--------------+--------------------+--------------+\n",
      "only showing top 10 rows\n",
      "\n"
     ]
    }
   ],
   "source": [
    "data.show(10, truncate=True)"
   ]
  },
  {
   "cell_type": "code",
   "execution_count": 7,
   "id": "f575812e-c3c1-48cf-81d1-3899c9a48377",
   "metadata": {},
   "outputs": [
    {
     "name": "stdout",
     "output_type": "stream",
     "text": [
      "root\n",
      " |-- asin: string (nullable = true)\n",
      " |-- helpful: array (nullable = true)\n",
      " |    |-- element: long (containsNull = true)\n",
      " |-- overall: double (nullable = true)\n",
      " |-- reviewText: string (nullable = true)\n",
      " |-- reviewTime: string (nullable = true)\n",
      " |-- reviewerID: string (nullable = true)\n",
      " |-- reviewerName: string (nullable = true)\n",
      " |-- summary: string (nullable = true)\n",
      " |-- unixReviewTime: long (nullable = true)\n",
      "\n"
     ]
    }
   ],
   "source": [
    "data.printSchema()"
   ]
  },
  {
   "cell_type": "markdown",
   "id": "74a8c280-edb8-4529-954d-e1b69d79d727",
   "metadata": {},
   "source": [
    "### Data preprocessing"
   ]
  },
  {
   "cell_type": "code",
   "execution_count": 8,
   "id": "e9b4b9da-391a-408d-a06a-e29b645b13f4",
   "metadata": {},
   "outputs": [],
   "source": [
    "data_sub = data.select(['asin', 'overall', 'reviewerID'])"
   ]
  },
  {
   "cell_type": "code",
   "execution_count": 9,
   "id": "4ee314b2-7813-4c84-b358-d1a756894e1a",
   "metadata": {},
   "outputs": [
    {
     "data": {
      "text/plain": [
       "167597"
      ]
     },
     "execution_count": 9,
     "metadata": {},
     "output_type": "execute_result"
    }
   ],
   "source": [
    "data_sub.count()"
   ]
  },
  {
   "cell_type": "code",
   "execution_count": 10,
   "id": "2d66ba44-519c-40fc-a7d3-3a5668d2fd4e",
   "metadata": {},
   "outputs": [],
   "source": [
    "from pyspark.sql.functions import col, udf\n",
    "from pyspark.sql.functions import isnan, when, count, col"
   ]
  },
  {
   "cell_type": "code",
   "execution_count": 11,
   "id": "43d1f960-bd1f-4022-8006-90613761d413",
   "metadata": {},
   "outputs": [
    {
     "name": "stdout",
     "output_type": "stream",
     "text": [
      "+----------+-------+--------------+\n",
      "|      asin|overall|    reviewerID|\n",
      "+----------+-------+--------------+\n",
      "|0439893577|    5.0|A1VXOAVRGKGEAK|\n",
      "|0439893577|    4.0| A8R62G708TSCM|\n",
      "|0439893577|    5.0|A21KH420DK0ICA|\n",
      "|0439893577|    5.0| AR29QK6HPFYZ4|\n",
      "|0439893577|    4.0| ACCH8EOML6FN5|\n",
      "+----------+-------+--------------+\n",
      "only showing top 5 rows\n",
      "\n"
     ]
    }
   ],
   "source": [
    "data_sub.show(5, truncate=True)"
   ]
  },
  {
   "cell_type": "code",
   "execution_count": 12,
   "id": "d3ed6817-ad54-4bdf-baa0-4b3a470cd897",
   "metadata": {},
   "outputs": [
    {
     "data": {
      "text/html": [
       "<div>\n",
       "<style scoped>\n",
       "    .dataframe tbody tr th:only-of-type {\n",
       "        vertical-align: middle;\n",
       "    }\n",
       "\n",
       "    .dataframe tbody tr th {\n",
       "        vertical-align: top;\n",
       "    }\n",
       "\n",
       "    .dataframe thead th {\n",
       "        text-align: right;\n",
       "    }\n",
       "</style>\n",
       "<table border=\"1\" class=\"dataframe\">\n",
       "  <thead>\n",
       "    <tr style=\"text-align: right;\">\n",
       "      <th></th>\n",
       "      <th>asin</th>\n",
       "      <th>overall</th>\n",
       "      <th>reviewerID</th>\n",
       "    </tr>\n",
       "  </thead>\n",
       "  <tbody>\n",
       "    <tr>\n",
       "      <th>0</th>\n",
       "      <td>0</td>\n",
       "      <td>0</td>\n",
       "      <td>0</td>\n",
       "    </tr>\n",
       "  </tbody>\n",
       "</table>\n",
       "</div>"
      ],
      "text/plain": [
       "   asin  overall  reviewerID\n",
       "0     0        0           0"
      ]
     },
     "execution_count": 12,
     "metadata": {},
     "output_type": "execute_result"
    }
   ],
   "source": [
    "data_sub.select([count(when(col(c).isNull(), c)).alias(c) for c in\n",
    "                data_sub.columns]).toPandas()"
   ]
  },
  {
   "cell_type": "markdown",
   "id": "6ae99a0d-acd8-4ac8-9285-90aa392b0d26",
   "metadata": {},
   "source": [
    "- Không có dữ liệu Null"
   ]
  },
  {
   "cell_type": "code",
   "execution_count": 13,
   "id": "fbebd86f-f00a-4a34-8c38-4b532ccaafcf",
   "metadata": {},
   "outputs": [
    {
     "data": {
      "text/plain": [
       "0"
      ]
     },
     "execution_count": 13,
     "metadata": {},
     "output_type": "execute_result"
    }
   ],
   "source": [
    "# Check duplicate\n",
    "dup_rows = data.count() - data.distinct().count()\n",
    "dup_rows"
   ]
  },
  {
   "cell_type": "markdown",
   "id": "89402007-49ac-4fee-9ce1-fe384665d864",
   "metadata": {},
   "source": [
    "- Không có dữ liệu bị duplicated"
   ]
  },
  {
   "cell_type": "code",
   "execution_count": 14,
   "id": "9b85cde0-30d4-4d63-9f0e-4c6701705172",
   "metadata": {},
   "outputs": [
    {
     "name": "stdout",
     "output_type": "stream",
     "text": [
      "+-------+------------------+\n",
      "|summary|           overall|\n",
      "+-------+------------------+\n",
      "|  count|            167597|\n",
      "|   mean| 4.356307093802395|\n",
      "| stddev|0.9935012992131987|\n",
      "|    min|               1.0|\n",
      "|    max|               5.0|\n",
      "+-------+------------------+\n",
      "\n"
     ]
    }
   ],
   "source": [
    "data.select('overall').describe().show()"
   ]
  },
  {
   "cell_type": "code",
   "execution_count": 15,
   "id": "4e4ece3c-9f59-40f3-9ae5-62bf74a2e3fa",
   "metadata": {},
   "outputs": [],
   "source": [
    "# Distinct users and movies\n",
    "users = data.select('reviewerID').distinct().count()\n",
    "products = data.select('asin').distinct().count()\n",
    "numerator = data.count()"
   ]
  },
  {
   "cell_type": "code",
   "execution_count": 16,
   "id": "6adf70c5-f50d-49e2-bae7-20fa6c121a0e",
   "metadata": {},
   "outputs": [
    {
     "data": {
      "text/plain": [
       "167597"
      ]
     },
     "metadata": {},
     "output_type": "display_data"
    },
    {
     "data": {
      "text/plain": [
       "19412"
      ]
     },
     "metadata": {},
     "output_type": "display_data"
    },
    {
     "data": {
      "text/plain": [
       "11924"
      ]
     },
     "metadata": {},
     "output_type": "display_data"
    }
   ],
   "source": [
    "display(numerator, users, products)"
   ]
  },
  {
   "cell_type": "code",
   "execution_count": 17,
   "id": "361bc93d-329b-4184-b211-5a4396552e93",
   "metadata": {},
   "outputs": [
    {
     "data": {
      "text/plain": [
       "231468688"
      ]
     },
     "execution_count": 17,
     "metadata": {},
     "output_type": "execute_result"
    }
   ],
   "source": [
    "# Number of ratings matrix could contain if no empty cells\n",
    "denominator = users * products\n",
    "denominator"
   ]
  },
  {
   "cell_type": "code",
   "execution_count": 18,
   "id": "38f09008-5654-4eda-a85f-879aa3fbdfaf",
   "metadata": {},
   "outputs": [
    {
     "name": "stdout",
     "output_type": "stream",
     "text": [
      "Sparsity: \n"
     ]
    },
    {
     "data": {
      "text/plain": [
       "(None, 0.9992759409428199)"
      ]
     },
     "execution_count": 18,
     "metadata": {},
     "output_type": "execute_result"
    }
   ],
   "source": [
    "#Calculating sparsity\n",
    "sparsity = 1 - (numerator*1.0 / denominator)\n",
    "print (\"Sparsity: \"), sparsity"
   ]
  },
  {
   "cell_type": "code",
   "execution_count": 19,
   "id": "2a187851-b34b-4726-9f75-32a5b8d8e2c5",
   "metadata": {},
   "outputs": [],
   "source": [
    "from pyspark.ml.evaluation import RegressionEvaluator\n",
    "from pyspark.ml.recommendation import ALS"
   ]
  },
  {
   "cell_type": "code",
   "execution_count": 20,
   "id": "520cd21d-0f44-4d50-a0ce-f70e671d4a1a",
   "metadata": {},
   "outputs": [],
   "source": [
    "# Converting String to index\n",
    "from pyspark.ml.feature import StringIndexer\n",
    "from pyspark.ml import Pipeline\n",
    "from pyspark.sql.functions import col"
   ]
  },
  {
   "cell_type": "code",
   "execution_count": 21,
   "id": "ccb8d8d2-dccf-4700-914b-9fe6c2111a2c",
   "metadata": {},
   "outputs": [],
   "source": [
    "# Create an indexer\n",
    "indexer = StringIndexer(inputCol='asin',\n",
    "                        outputCol='asin_idx')\n",
    "\n",
    "# Indexer identifies categories in the data\n",
    "indexer_model = indexer.fit(data_sub)\n",
    "\n",
    "# Indexer creates a new column with numeric index values\n",
    "data_indexed = indexer_model.transform(data_sub)\n",
    "\n",
    "# Repeat the process for the other categorical feature\n",
    "indexer1 = StringIndexer(inputCol='reviewerID',\n",
    "                        outputCol='reviewerID_idx')\n",
    "indexer1_model = indexer1.fit(data_indexed)\n",
    "data_indexed = indexer1_model.transform(data_indexed)"
   ]
  },
  {
   "cell_type": "code",
   "execution_count": 22,
   "id": "f50881db-b9b9-427e-821f-40e01533e06f",
   "metadata": {},
   "outputs": [
    {
     "name": "stdout",
     "output_type": "stream",
     "text": [
      "+----------+-------+--------------+--------+--------------+\n",
      "|      asin|overall|    reviewerID|asin_idx|reviewerID_idx|\n",
      "+----------+-------+--------------+--------+--------------+\n",
      "|0439893577|    5.0|A1VXOAVRGKGEAK|  2524.0|       14349.0|\n",
      "|0439893577|    4.0| A8R62G708TSCM|  2524.0|       18115.0|\n",
      "|0439893577|    5.0|A21KH420DK0ICA|  2524.0|        4454.0|\n",
      "|0439893577|    5.0| AR29QK6HPFYZ4|  2524.0|       18990.0|\n",
      "|0439893577|    4.0| ACCH8EOML6FN5|  2524.0|        2769.0|\n",
      "+----------+-------+--------------+--------+--------------+\n",
      "only showing top 5 rows\n",
      "\n"
     ]
    }
   ],
   "source": [
    "data_indexed.show(5, truncate=True)"
   ]
  },
  {
   "cell_type": "code",
   "execution_count": 23,
   "id": "39c131e9-7084-4381-80e1-df7f7e371928",
   "metadata": {},
   "outputs": [
    {
     "data": {
      "text/html": [
       "<div>\n",
       "<style scoped>\n",
       "    .dataframe tbody tr th:only-of-type {\n",
       "        vertical-align: middle;\n",
       "    }\n",
       "\n",
       "    .dataframe tbody tr th {\n",
       "        vertical-align: top;\n",
       "    }\n",
       "\n",
       "    .dataframe thead th {\n",
       "        text-align: right;\n",
       "    }\n",
       "</style>\n",
       "<table border=\"1\" class=\"dataframe\">\n",
       "  <thead>\n",
       "    <tr style=\"text-align: right;\">\n",
       "      <th></th>\n",
       "      <th>0</th>\n",
       "    </tr>\n",
       "  </thead>\n",
       "  <tbody>\n",
       "    <tr>\n",
       "      <th>asin</th>\n",
       "      <td>0</td>\n",
       "    </tr>\n",
       "    <tr>\n",
       "      <th>overall</th>\n",
       "      <td>0</td>\n",
       "    </tr>\n",
       "    <tr>\n",
       "      <th>reviewerID</th>\n",
       "      <td>0</td>\n",
       "    </tr>\n",
       "    <tr>\n",
       "      <th>asin_idx</th>\n",
       "      <td>0</td>\n",
       "    </tr>\n",
       "    <tr>\n",
       "      <th>reviewerID_idx</th>\n",
       "      <td>0</td>\n",
       "    </tr>\n",
       "  </tbody>\n",
       "</table>\n",
       "</div>"
      ],
      "text/plain": [
       "                0\n",
       "asin            0\n",
       "overall         0\n",
       "reviewerID      0\n",
       "asin_idx        0\n",
       "reviewerID_idx  0"
      ]
     },
     "execution_count": 23,
     "metadata": {},
     "output_type": "execute_result"
    }
   ],
   "source": [
    "data_indexed.select([count(when(col(c).isNull(), c)).alias(c) for c in\n",
    "                    data_indexed.columns]).toPandas().T"
   ]
  },
  {
   "cell_type": "markdown",
   "id": "c7108d5f-a256-40d5-9168-ded23c5f375d",
   "metadata": {},
   "source": [
    "- Data không có dữ liệu null"
   ]
  },
  {
   "cell_type": "markdown",
   "id": "c00786ac-be12-41c8-929b-e6820ced8e7f",
   "metadata": {},
   "source": [
    "### Chia dữ liệu train-test"
   ]
  },
  {
   "cell_type": "code",
   "execution_count": 24,
   "id": "e37c9dab-847a-4fb5-9479-9aa69fa8f977",
   "metadata": {},
   "outputs": [],
   "source": [
    "(training, test) = data_indexed.randomSplit([0.8, 0.2])"
   ]
  },
  {
   "cell_type": "markdown",
   "id": "8a191578-d936-4bd6-bec5-e7b550bc9029",
   "metadata": {},
   "source": [
    "### Xây dựng model"
   ]
  },
  {
   "cell_type": "code",
   "execution_count": 25,
   "id": "94fe175a-c778-401a-87c0-232d32d360ba",
   "metadata": {},
   "outputs": [],
   "source": [
    "# Creating ALS model and fitting data\n",
    "from pyspark.ml.evaluation import RegressionEvaluator\n",
    "from pyspark.ml.recommendation import ALS"
   ]
  },
  {
   "cell_type": "code",
   "execution_count": 26,
   "id": "475cad2a-402c-4104-bb66-4fce3b94c934",
   "metadata": {},
   "outputs": [],
   "source": [
    "als = ALS(maxIter=5,\n",
    "          regParam=0.09,\n",
    "          rank=25,\n",
    "          userCol='reviewerID_idx',\n",
    "          itemCol='asin_idx',\n",
    "          ratingCol='overall',\n",
    "          coldStartStrategy='drop',\n",
    "          nonnegative=True)\n",
    "model = als.fit(training)"
   ]
  },
  {
   "cell_type": "markdown",
   "id": "1cd76713-2ff7-4c60-bded-90db2ec758a3",
   "metadata": {},
   "source": [
    "### Đánh giá kết quả"
   ]
  },
  {
   "cell_type": "code",
   "execution_count": 27,
   "id": "801b9305-ccda-4db2-a64b-ba6728c1bbd3",
   "metadata": {},
   "outputs": [],
   "source": [
    "# Evaluate the model by computing the RMSE on the test data\n",
    "predictions = model.transform(test)"
   ]
  },
  {
   "cell_type": "code",
   "execution_count": 28,
   "id": "9107266d-0680-46ba-90c3-84e87290fca6",
   "metadata": {},
   "outputs": [
    {
     "name": "stdout",
     "output_type": "stream",
     "text": [
      "+--------+--------------+-------+----------+\n",
      "|asin_idx|reviewerID_idx|overall|prediction|\n",
      "+--------+--------------+-------+----------+\n",
      "|    45.0|       13623.0|    5.0| 3.8328078|\n",
      "|  8056.0|        6397.0|    5.0| 2.6199267|\n",
      "|    15.0|       18911.0|    5.0| 3.6369438|\n",
      "|  1907.0|        7253.0|    5.0|  4.101487|\n",
      "|  2538.0|         463.0|    5.0|  5.185304|\n",
      "+--------+--------------+-------+----------+\n",
      "only showing top 5 rows\n",
      "\n"
     ]
    }
   ],
   "source": [
    "predictions.select([\"asin_idx\", \"reviewerID_idx\",\n",
    "                    \"overall\", \"prediction\",]).show(5)"
   ]
  },
  {
   "cell_type": "code",
   "execution_count": 29,
   "id": "d742153e-8411-4972-a10c-14ab38bc6e00",
   "metadata": {},
   "outputs": [
    {
     "name": "stdout",
     "output_type": "stream",
     "text": [
      "Root-mean-square error = 1.1328857557045706\n"
     ]
    }
   ],
   "source": [
    "evaluator = RegressionEvaluator(metricName=\"rmse\",\n",
    "                                labelCol=\"overall\",\n",
    "                                predictionCol=\"prediction\")\n",
    "rmse = evaluator.evaluate(predictions)\n",
    "print(\"Root-mean-square error = \" + str(rmse))"
   ]
  },
  {
   "cell_type": "markdown",
   "id": "2c7a3537-c0d6-4811-9118-e1ccc7fc5393",
   "metadata": {},
   "source": [
    "- This model is ~ 1.12 from perfect recommendations."
   ]
  },
  {
   "cell_type": "markdown",
   "id": "a09529d0-56b9-4c2b-853b-96cf41dda075",
   "metadata": {},
   "source": [
    "### Tuning parameters"
   ]
  },
  {
   "cell_type": "code",
   "execution_count": 30,
   "id": "7d35993f-5194-4a76-b641-7c9397eae7ef",
   "metadata": {},
   "outputs": [],
   "source": [
    "als_t = ALS(maxIter=10,\n",
    "          regParam=0.9,\n",
    "          userCol='reviewerID_idx',\n",
    "          itemCol='asin_idx',\n",
    "          ratingCol='overall',\n",
    "          coldStartStrategy='drop',\n",
    "          nonnegative=True\n",
    "         )\n",
    "model_t = als_t.fit(training)"
   ]
  },
  {
   "cell_type": "code",
   "execution_count": 31,
   "id": "f1278679-569c-4623-a6ac-d8c35a59ce2b",
   "metadata": {},
   "outputs": [],
   "source": [
    "# Evaluate the model by computing the RMSE on the test data\n",
    "predictions_t = model_t.transform(test)"
   ]
  },
  {
   "cell_type": "code",
   "execution_count": 32,
   "id": "6249085e-7d39-47bf-abbc-de1a310b76c2",
   "metadata": {},
   "outputs": [
    {
     "name": "stdout",
     "output_type": "stream",
     "text": [
      "Root-mean-square-error =  1.283256734084161\n"
     ]
    }
   ],
   "source": [
    "rmse_t = evaluator.evaluate(predictions_t)\n",
    "print('Root-mean-square-error = ', str(rmse_t))"
   ]
  },
  {
   "cell_type": "markdown",
   "id": "dc32baa9-1892-4749-af03-4ee854e148be",
   "metadata": {},
   "source": [
    "- Select model vì rmse của model ~1.12 nhỏ hơn model_t ~1.26"
   ]
  },
  {
   "cell_type": "markdown",
   "id": "0747b773-8795-44d1-959f-4ed03b3c9c7b",
   "metadata": {},
   "source": [
    "### Recommend for specific users"
   ]
  },
  {
   "cell_type": "code",
   "execution_count": 33,
   "id": "20b51559-2271-4a61-ace5-a6add90ed651",
   "metadata": {},
   "outputs": [],
   "source": [
    "# Get 10 recommendations which have the highest rating\n",
    "user_recs = model.recommendForAllUsers(10)"
   ]
  },
  {
   "cell_type": "code",
   "execution_count": 34,
   "id": "d54c203b-308f-4fc6-bb2b-2ad2984391eb",
   "metadata": {},
   "outputs": [
    {
     "name": "stdout",
     "output_type": "stream",
     "text": [
      "root\n",
      " |-- reviewerID_idx: integer (nullable = false)\n",
      " |-- recommendations: array (nullable = true)\n",
      " |    |-- element: struct (containsNull = true)\n",
      " |    |    |-- asin_idx: integer (nullable = true)\n",
      " |    |    |-- rating: float (nullable = true)\n",
      "\n"
     ]
    }
   ],
   "source": [
    "user_recs.printSchema()"
   ]
  },
  {
   "cell_type": "code",
   "execution_count": 35,
   "id": "c406abc1-7658-40eb-97d1-5347e68d5a5d",
   "metadata": {},
   "outputs": [
    {
     "name": "stdout",
     "output_type": "stream",
     "text": [
      "Row(reviewerID_idx=26, recommendations=[Row(asin_idx=9850, rating=6.742778301239014), Row(asin_idx=9486, rating=6.539072036743164), Row(asin_idx=6836, rating=6.387267589569092), Row(asin_idx=3493, rating=6.36586856842041), Row(asin_idx=4214, rating=6.262614727020264), Row(asin_idx=7983, rating=6.235605239868164), Row(asin_idx=8309, rating=6.221793174743652), Row(asin_idx=10928, rating=6.215353965759277), Row(asin_idx=6657, rating=6.215272903442383), Row(asin_idx=4168, rating=6.19683313369751)])\n",
      "Row(reviewerID_idx=27, recommendations=[Row(asin_idx=7983, rating=7.132510185241699), Row(asin_idx=6836, rating=7.098873138427734), Row(asin_idx=8870, rating=7.023540496826172), Row(asin_idx=3493, rating=6.98689603805542), Row(asin_idx=4724, rating=6.969473838806152), Row(asin_idx=9486, rating=6.963817119598389), Row(asin_idx=11870, rating=6.961329936981201), Row(asin_idx=9425, rating=6.900588035583496), Row(asin_idx=7511, rating=6.895907878875732), Row(asin_idx=8158, rating=6.880486965179443)])\n",
      "Row(reviewerID_idx=28, recommendations=[Row(asin_idx=7840, rating=5.572158336639404), Row(asin_idx=10549, rating=5.570785999298096), Row(asin_idx=5949, rating=5.5113525390625), Row(asin_idx=10928, rating=5.465017795562744), Row(asin_idx=11828, rating=5.420324325561523), Row(asin_idx=2649, rating=5.4007439613342285), Row(asin_idx=9486, rating=5.398633003234863), Row(asin_idx=11344, rating=5.388326168060303), Row(asin_idx=7983, rating=5.369881629943848), Row(asin_idx=3493, rating=5.367435455322266)])\n"
     ]
    }
   ],
   "source": [
    "for user in user_recs.head(3):\n",
    "    print(user)"
   ]
  },
  {
   "cell_type": "markdown",
   "id": "6ac0e9d8-1998-42c0-b9fa-475551d96706",
   "metadata": {},
   "source": [
    "### Đưa ra đề xuất cho một user cụ thể"
   ]
  },
  {
   "cell_type": "code",
   "execution_count": 36,
   "id": "4a9e956b-a8cf-44a1-b36f-6adb3ae283cd",
   "metadata": {},
   "outputs": [
    {
     "name": "stdout",
     "output_type": "stream",
     "text": [
      "+--------------+--------------+\n",
      "|reviewerID_idx|    reviewerID|\n",
      "+--------------+--------------+\n",
      "|        1688.0|A32EBQDMOPEJHE|\n",
      "|        4094.0| AJ36J4LKI6M0K|\n",
      "|       15847.0|A2R4AIJZR65WFG|\n",
      "|       15154.0|A2CV5DM78XPO3K|\n",
      "|        1155.0|A2R8R97INVXBR1|\n",
      "+--------------+--------------+\n",
      "only showing top 5 rows\n",
      "\n"
     ]
    }
   ],
   "source": [
    "# create a df of distinct 'reviewerID_idx' & 'reviewerID'\n",
    "df_reviewer_reviewer_id = data_indexed.select('reviewerID_idx', 'reviewerID').distinct()\n",
    "df_reviewer_reviewer_id.show(5)"
   ]
  },
  {
   "cell_type": "code",
   "execution_count": 37,
   "id": "3f06e693-346f-4a79-8125-52ed4d0f274d",
   "metadata": {},
   "outputs": [],
   "source": [
    "# join with user_recs\n",
    "new_user_recs = user_recs.join(df_reviewer_reviewer_id, on='reviewerID_idx', how='left')"
   ]
  },
  {
   "cell_type": "code",
   "execution_count": 38,
   "id": "b4f0ffac-3343-47b8-9109-45f56c5135cd",
   "metadata": {},
   "outputs": [
    {
     "name": "stdout",
     "output_type": "stream",
     "text": [
      "+--------+----------+\n",
      "|asin_idx|      asin|\n",
      "+--------+----------+\n",
      "|  9630.0|1603800689|\n",
      "|    19.0|B00000K3BR|\n",
      "|  3225.0|B00001ZT4D|\n",
      "|  2347.0|B00006JBKT|\n",
      "|  1600.0|B00012TGL6|\n",
      "+--------+----------+\n",
      "only showing top 5 rows\n",
      "\n"
     ]
    }
   ],
   "source": [
    "# create a df of distinct 'asin_idx' & 'asin'\n",
    "df_asin_asin_idx = data_indexed.select('asin_idx', 'asin').distinct()\n",
    "df_asin_asin_idx.show(5)"
   ]
  },
  {
   "cell_type": "code",
   "execution_count": 39,
   "id": "656fe536-5042-44c3-aa16-63a97ea78ae7",
   "metadata": {},
   "outputs": [],
   "source": [
    "# Recommendation for reviewerID = 'A3GJPLCZCDXXG6'\n",
    "reviewerID_1 = 'A3GJPLCZCDXXG6'\n",
    "find_user_rec = new_user_recs.filter(new_user_recs['reviewerID'] == reviewerID_1)\n",
    "user = find_user_rec.first() \n",
    "lst = []\n",
    "for row in user['recommendations']:   \n",
    "    row_f = df_asin_asin_idx.filter(df_asin_asin_idx.asin_idx == row['asin_idx'])  \n",
    "    row_f_first = row_f.first()\n",
    "    lst.append((row['asin_idx'], row_f_first['asin'], row['rating']))\n",
    "dic_user_rec_1 = {'reviewerID' : user.reviewerID, 'recommendations' :lst}"
   ]
  },
  {
   "cell_type": "code",
   "execution_count": 40,
   "id": "157ae3fd-bb87-4b11-bd39-775efdf70fb3",
   "metadata": {},
   "outputs": [
    {
     "data": {
      "text/plain": [
       "{'reviewerID': 'A3GJPLCZCDXXG6',\n",
       " 'recommendations': [(3493, 'B00D95E30G', 6.640453338623047),\n",
       "  (11870, 'B00FHFBQIS', 6.152516841888428),\n",
       "  (10770, 'B003F2VNGK', 6.144981384277344),\n",
       "  (4168, 'B0087JGGX6', 6.114174842834473),\n",
       "  (11443, 'B00847GS48', 6.032721996307373),\n",
       "  (6836, 'B00D3Y18WO', 6.031802654266357),\n",
       "  (7983, 'B00CUB6UCE', 6.006269454956055),\n",
       "  (11622, 'B00A88G6V6', 5.988472938537598),\n",
       "  (5183, 'B0087JD10C', 5.956704139709473),\n",
       "  (4214, 'B00CPIYY0W', 5.903722763061523)]}"
      ]
     },
     "execution_count": 40,
     "metadata": {},
     "output_type": "execute_result"
    }
   ],
   "source": [
    "dic_user_rec_1"
   ]
  },
  {
   "cell_type": "code",
   "execution_count": 41,
   "id": "d061718a-8e34-4ed6-aa8c-6429bd049050",
   "metadata": {},
   "outputs": [],
   "source": [
    "# Recommendation for reviewerID = 'A34U85WY8ZWBPV'\n",
    "reviewerID_2 = 'A34U85WY8ZWBPV'\n",
    "find_user_rec = new_user_recs.filter(new_user_recs['reviewerID'] == reviewerID_2)\n",
    "user = find_user_rec.first() \n",
    "lst = []\n",
    "for row in user['recommendations']:   \n",
    "    row_f = df_asin_asin_idx.filter(df_asin_asin_idx.asin_idx == row['asin_idx'])  \n",
    "    row_f_first = row_f.first()\n",
    "    lst.append((row['asin_idx'], row_f_first['asin'], row['rating']))\n",
    "dic_user_rec_2 = {'reviewerID' : user.reviewerID, 'recommendations' :lst}"
   ]
  },
  {
   "cell_type": "code",
   "execution_count": 42,
   "id": "763bd176-69d8-4774-879b-63c246615bf5",
   "metadata": {},
   "outputs": [
    {
     "data": {
      "text/plain": [
       "{'reviewerID': 'A34U85WY8ZWBPV',\n",
       " 'recommendations': [(3493, 'B00D95E30G', 5.5434980392456055),\n",
       "  (9866, 'B0007XIZ0M', 5.524738311767578),\n",
       "  (6836, 'B00D3Y18WO', 5.505463123321533),\n",
       "  (9850, 'B0007N697S', 5.397765636444092),\n",
       "  (9254, 'B007CB7X1E', 5.351941108703613),\n",
       "  (9915, 'B000B652ZQ', 5.341699123382568),\n",
       "  (8158, 'B00027P7SQ', 5.303812503814697),\n",
       "  (8222, 'B0007XIZ0C', 5.2991862297058105),\n",
       "  (5377, 'B0001Y6IIS', 5.298669815063477),\n",
       "  (9814, 'B00030LQK0', 5.2850446701049805)]}"
      ]
     },
     "execution_count": 42,
     "metadata": {},
     "output_type": "execute_result"
    }
   ],
   "source": [
    "dic_user_rec_2"
   ]
  },
  {
   "cell_type": "code",
   "execution_count": 43,
   "id": "05e39d89-aba1-4164-a62c-d4c703005d1c",
   "metadata": {},
   "outputs": [],
   "source": [
    "# Recommendation for reviewerID = 'A2VIY2TL6QPYLG'\n",
    "reviewerID_3 = 'A2VIY2TL6QPYLG'\n",
    "find_user_rec = new_user_recs.filter(new_user_recs['reviewerID'] == reviewerID_3)\n",
    "user = find_user_rec.first() \n",
    "lst = []\n",
    "for row in user['recommendations']:   \n",
    "    row_f = df_asin_asin_idx.filter(df_asin_asin_idx.asin_idx == row['asin_idx'])  \n",
    "    row_f_first = row_f.first()\n",
    "    lst.append((row['asin_idx'], row_f_first['asin'], row['rating']))\n",
    "dic_user_rec_3 = {'reviewerID' : user.reviewerID, 'recommendations' :lst}"
   ]
  },
  {
   "cell_type": "code",
   "execution_count": 44,
   "id": "a6a343c2-0a8b-474d-a035-5a9d16077133",
   "metadata": {},
   "outputs": [
    {
     "data": {
      "text/plain": [
       "{'reviewerID': 'A2VIY2TL6QPYLG',\n",
       " 'recommendations': [(11607, 'B00A0GNOVQ', 6.817030906677246),\n",
       "  (9847, 'B0007DI63S', 6.733384132385254),\n",
       "  (5377, 'B0001Y6IIS', 6.511037349700928),\n",
       "  (5390, 'B00062X6KS', 6.459409713745117),\n",
       "  (8222, 'B0007XIZ0C', 6.421385288238525),\n",
       "  (11198, 'B005LAZDMY', 6.373732566833496),\n",
       "  (8158, 'B00027P7SQ', 6.351343631744385),\n",
       "  (8224, 'B0007XIZ4I', 6.348474025726318),\n",
       "  (4168, 'B0087JGGX6', 6.346649646759033),\n",
       "  (7983, 'B00CUB6UCE', 6.3413214683532715)]}"
      ]
     },
     "execution_count": 44,
     "metadata": {},
     "output_type": "execute_result"
    }
   ],
   "source": [
    "dic_user_rec_3"
   ]
  },
  {
   "cell_type": "markdown",
   "id": "1ab97f47-fe5b-486c-92c1-7da6775d7992",
   "metadata": {},
   "source": [
    "- user A3GJPLCZCDXXG6 is recommended to buy product with productId = B00D95E30G, B00FHFBQIS,...\n",
    "- user A34U85WY8ZWBPV is recommended to buy product with productId = B0007XIZ0M, B00D3Y18WO,...\n",
    "- user A2VIY2TL6QPYLG is recommended to buy product with productId = B00A0GNOVQ, B0007DI63S,..."
   ]
  },
  {
   "cell_type": "code",
   "execution_count": null,
   "id": "a8aa4287-2839-48c0-9b8d-14d0f41fa127",
   "metadata": {},
   "outputs": [],
   "source": []
  }
 ],
 "metadata": {
  "kernelspec": {
   "display_name": "Python 3 (ipykernel)",
   "language": "python",
   "name": "python3"
  },
  "language_info": {
   "codemirror_mode": {
    "name": "ipython",
    "version": 3
   },
   "file_extension": ".py",
   "mimetype": "text/x-python",
   "name": "python",
   "nbconvert_exporter": "python",
   "pygments_lexer": "ipython3",
   "version": "3.8.9"
  }
 },
 "nbformat": 4,
 "nbformat_minor": 5
}
